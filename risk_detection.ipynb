{
 "cells": [
  {
   "cell_type": "code",
   "execution_count": 20,
   "id": "d606f410-ddf3-4c9a-a64e-888cdcbbe3e2",
   "metadata": {},
   "outputs": [
    {
     "data": {
      "text/html": [
       "<div>\n",
       "<style scoped>\n",
       "    .dataframe tbody tr th:only-of-type {\n",
       "        vertical-align: middle;\n",
       "    }\n",
       "\n",
       "    .dataframe tbody tr th {\n",
       "        vertical-align: top;\n",
       "    }\n",
       "\n",
       "    .dataframe thead th {\n",
       "        text-align: right;\n",
       "    }\n",
       "</style>\n",
       "<table border=\"1\" class=\"dataframe\">\n",
       "  <thead>\n",
       "    <tr style=\"text-align: right;\">\n",
       "      <th></th>\n",
       "      <th>Engine RPM(rpm)</th>\n",
       "      <th>Intake Air Temperature(°C)</th>\n",
       "      <th>Engine Load(%)</th>\n",
       "      <th>Throttle Position(Manifold)(%)</th>\n",
       "    </tr>\n",
       "  </thead>\n",
       "  <tbody>\n",
       "    <tr>\n",
       "      <th>0</th>\n",
       "      <td>2623.25</td>\n",
       "      <td>30</td>\n",
       "      <td>92.549019</td>\n",
       "      <td>32.549019</td>\n",
       "    </tr>\n",
       "    <tr>\n",
       "      <th>1</th>\n",
       "      <td>3169.50</td>\n",
       "      <td>30</td>\n",
       "      <td>90.980392</td>\n",
       "      <td>32.549019</td>\n",
       "    </tr>\n",
       "    <tr>\n",
       "      <th>2</th>\n",
       "      <td>2587.50</td>\n",
       "      <td>30</td>\n",
       "      <td>98.431374</td>\n",
       "      <td>37.647060</td>\n",
       "    </tr>\n",
       "    <tr>\n",
       "      <th>3</th>\n",
       "      <td>2753.00</td>\n",
       "      <td>30</td>\n",
       "      <td>98.039215</td>\n",
       "      <td>39.215687</td>\n",
       "    </tr>\n",
       "    <tr>\n",
       "      <th>4</th>\n",
       "      <td>2957.00</td>\n",
       "      <td>30</td>\n",
       "      <td>96.862747</td>\n",
       "      <td>38.823528</td>\n",
       "    </tr>\n",
       "  </tbody>\n",
       "</table>\n",
       "</div>"
      ],
      "text/plain": [
       "   Engine RPM(rpm)  Intake Air Temperature(°C)  Engine Load(%)  \\\n",
       "0          2623.25                          30       92.549019   \n",
       "1          3169.50                          30       90.980392   \n",
       "2          2587.50                          30       98.431374   \n",
       "3          2753.00                          30       98.039215   \n",
       "4          2957.00                          30       96.862747   \n",
       "\n",
       "   Throttle Position(Manifold)(%)  \n",
       "0                       32.549019  \n",
       "1                       32.549019  \n",
       "2                       37.647060  \n",
       "3                       39.215687  \n",
       "4                       38.823528  "
      ]
     },
     "execution_count": 20,
     "metadata": {},
     "output_type": "execute_result"
    }
   ],
   "source": [
    "import pandas as pd\n",
    "import seaborn as sns\n",
    "import matplotlib.pyplot as plt\n",
    "\n",
    "# Load cleaned data\n",
    "data = pd.read_csv('cleaned_obd_data.csv')\n",
    "\n",
    "# Drop NaN columns\n",
    "data = data.dropna(axis=1, how='all')\n",
    "\n",
    "# Drop'Unnamed' columns\n",
    "data = data.loc[:, ~data.columns.str.contains('^Unnamed')]\n",
    "\n",
    "data.head()\n"
   ]
  },
  {
   "cell_type": "code",
   "execution_count": 5,
   "id": "a292b9a0-787c-4606-9ba0-b95ef5b481a2",
   "metadata": {},
   "outputs": [
    {
     "name": "stdout",
     "output_type": "stream",
     "text": [
      "----- Average Values -----\n",
      "Average Engine RPM: 1738.828539823009\n",
      "Average Engine Load (%): 55.49742698800148\n",
      "Average Intake Air Temp (°C): 31.17920353982301\n",
      "Average Throttle Position (%): 22.547573990073744\n"
     ]
    }
   ],
   "source": [
    "print(\"----- Average Values -----\")\n",
    "print(\"Average Engine RPM:\", data['Engine RPM(rpm)'].mean())\n",
    "print(\"Average Engine Load (%):\", data['Engine Load(%)'].mean())\n",
    "print(\"Average Intake Air Temp (°C):\", data['Intake Air Temperature(°C)'].mean())\n",
    "print(\"Average Throttle Position (%):\", data['Throttle Position(Manifold)(%)'].mean())"
   ]
  },
  {
   "cell_type": "code",
   "execution_count": 21,
   "id": "b347ae37-ca81-437e-b0d5-3e980c697e74",
   "metadata": {},
   "outputs": [
    {
     "data": {
      "text/html": [
       "<div>\n",
       "<style scoped>\n",
       "    .dataframe tbody tr th:only-of-type {\n",
       "        vertical-align: middle;\n",
       "    }\n",
       "\n",
       "    .dataframe tbody tr th {\n",
       "        vertical-align: top;\n",
       "    }\n",
       "\n",
       "    .dataframe thead th {\n",
       "        text-align: right;\n",
       "    }\n",
       "</style>\n",
       "<table border=\"1\" class=\"dataframe\">\n",
       "  <thead>\n",
       "    <tr style=\"text-align: right;\">\n",
       "      <th></th>\n",
       "      <th>Engine RPM(rpm)</th>\n",
       "      <th>Intake Air Temperature(°C)</th>\n",
       "      <th>Engine Load(%)</th>\n",
       "      <th>Throttle Position(Manifold)(%)</th>\n",
       "    </tr>\n",
       "  </thead>\n",
       "  <tbody>\n",
       "    <tr>\n",
       "      <th>1</th>\n",
       "      <td>3169.50</td>\n",
       "      <td>30</td>\n",
       "      <td>90.980392</td>\n",
       "      <td>32.549019</td>\n",
       "    </tr>\n",
       "    <tr>\n",
       "      <th>5</th>\n",
       "      <td>3158.50</td>\n",
       "      <td>30</td>\n",
       "      <td>97.254906</td>\n",
       "      <td>40.000000</td>\n",
       "    </tr>\n",
       "    <tr>\n",
       "      <th>6</th>\n",
       "      <td>3430.25</td>\n",
       "      <td>30</td>\n",
       "      <td>95.294121</td>\n",
       "      <td>40.392159</td>\n",
       "    </tr>\n",
       "    <tr>\n",
       "      <th>93</th>\n",
       "      <td>3098.25</td>\n",
       "      <td>30</td>\n",
       "      <td>95.686279</td>\n",
       "      <td>36.862747</td>\n",
       "    </tr>\n",
       "    <tr>\n",
       "      <th>94</th>\n",
       "      <td>3257.75</td>\n",
       "      <td>30</td>\n",
       "      <td>91.764709</td>\n",
       "      <td>27.450981</td>\n",
       "    </tr>\n",
       "  </tbody>\n",
       "</table>\n",
       "</div>"
      ],
      "text/plain": [
       "    Engine RPM(rpm)  Intake Air Temperature(°C)  Engine Load(%)  \\\n",
       "1           3169.50                          30       90.980392   \n",
       "5           3158.50                          30       97.254906   \n",
       "6           3430.25                          30       95.294121   \n",
       "93          3098.25                          30       95.686279   \n",
       "94          3257.75                          30       91.764709   \n",
       "\n",
       "    Throttle Position(Manifold)(%)  \n",
       "1                        32.549019  \n",
       "5                        40.000000  \n",
       "6                        40.392159  \n",
       "93                       36.862747  \n",
       "94                       27.450981  "
      ]
     },
     "execution_count": 21,
     "metadata": {},
     "output_type": "execute_result"
    }
   ],
   "source": [
    "# Find instances with high RPM (>3000)\n",
    "high_rpm = data[data['Engine RPM(rpm)'] > 3000]\n",
    "\n",
    "high_rpm.head()\n"
   ]
  },
  {
   "cell_type": "code",
   "execution_count": 22,
   "id": "f313ba9b-2227-4cb0-8621-829a8266409d",
   "metadata": {},
   "outputs": [
    {
     "data": {
      "text/html": [
       "<div>\n",
       "<style scoped>\n",
       "    .dataframe tbody tr th:only-of-type {\n",
       "        vertical-align: middle;\n",
       "    }\n",
       "\n",
       "    .dataframe tbody tr th {\n",
       "        vertical-align: top;\n",
       "    }\n",
       "\n",
       "    .dataframe thead th {\n",
       "        text-align: right;\n",
       "    }\n",
       "</style>\n",
       "<table border=\"1\" class=\"dataframe\">\n",
       "  <thead>\n",
       "    <tr style=\"text-align: right;\">\n",
       "      <th></th>\n",
       "      <th>Engine RPM(rpm)</th>\n",
       "      <th>Intake Air Temperature(°C)</th>\n",
       "      <th>Engine Load(%)</th>\n",
       "      <th>Throttle Position(Manifold)(%)</th>\n",
       "    </tr>\n",
       "  </thead>\n",
       "  <tbody>\n",
       "    <tr>\n",
       "      <th>0</th>\n",
       "      <td>2623.25</td>\n",
       "      <td>30</td>\n",
       "      <td>92.549019</td>\n",
       "      <td>32.549019</td>\n",
       "    </tr>\n",
       "    <tr>\n",
       "      <th>1</th>\n",
       "      <td>3169.50</td>\n",
       "      <td>30</td>\n",
       "      <td>90.980392</td>\n",
       "      <td>32.549019</td>\n",
       "    </tr>\n",
       "    <tr>\n",
       "      <th>2</th>\n",
       "      <td>2587.50</td>\n",
       "      <td>30</td>\n",
       "      <td>98.431374</td>\n",
       "      <td>37.647060</td>\n",
       "    </tr>\n",
       "    <tr>\n",
       "      <th>3</th>\n",
       "      <td>2753.00</td>\n",
       "      <td>30</td>\n",
       "      <td>98.039215</td>\n",
       "      <td>39.215687</td>\n",
       "    </tr>\n",
       "    <tr>\n",
       "      <th>4</th>\n",
       "      <td>2957.00</td>\n",
       "      <td>30</td>\n",
       "      <td>96.862747</td>\n",
       "      <td>38.823528</td>\n",
       "    </tr>\n",
       "  </tbody>\n",
       "</table>\n",
       "</div>"
      ],
      "text/plain": [
       "   Engine RPM(rpm)  Intake Air Temperature(°C)  Engine Load(%)  \\\n",
       "0          2623.25                          30       92.549019   \n",
       "1          3169.50                          30       90.980392   \n",
       "2          2587.50                          30       98.431374   \n",
       "3          2753.00                          30       98.039215   \n",
       "4          2957.00                          30       96.862747   \n",
       "\n",
       "   Throttle Position(Manifold)(%)  \n",
       "0                       32.549019  \n",
       "1                       32.549019  \n",
       "2                       37.647060  \n",
       "3                       39.215687  \n",
       "4                       38.823528  "
      ]
     },
     "execution_count": 22,
     "metadata": {},
     "output_type": "execute_result"
    }
   ],
   "source": [
    "# Find instances with high Engine Load (>80%)\n",
    "high_load = data[data['Engine Load(%)'] > 80]\n",
    "\n",
    "high_load.head()\n"
   ]
  },
  {
   "cell_type": "code",
   "execution_count": 23,
   "id": "2cc18e2e-b3cc-4d5e-9c69-2ca590bfa983",
   "metadata": {},
   "outputs": [
    {
     "data": {
      "text/html": [
       "<div>\n",
       "<style scoped>\n",
       "    .dataframe tbody tr th:only-of-type {\n",
       "        vertical-align: middle;\n",
       "    }\n",
       "\n",
       "    .dataframe tbody tr th {\n",
       "        vertical-align: top;\n",
       "    }\n",
       "\n",
       "    .dataframe thead th {\n",
       "        text-align: right;\n",
       "    }\n",
       "</style>\n",
       "<table border=\"1\" class=\"dataframe\">\n",
       "  <thead>\n",
       "    <tr style=\"text-align: right;\">\n",
       "      <th></th>\n",
       "      <th>Engine RPM(rpm)</th>\n",
       "      <th>Intake Air Temperature(°C)</th>\n",
       "      <th>Engine Load(%)</th>\n",
       "      <th>Throttle Position(Manifold)(%)</th>\n",
       "    </tr>\n",
       "  </thead>\n",
       "  <tbody>\n",
       "    <tr>\n",
       "      <th>1</th>\n",
       "      <td>3169.50</td>\n",
       "      <td>30</td>\n",
       "      <td>90.980392</td>\n",
       "      <td>32.549019</td>\n",
       "    </tr>\n",
       "    <tr>\n",
       "      <th>5</th>\n",
       "      <td>3158.50</td>\n",
       "      <td>30</td>\n",
       "      <td>97.254906</td>\n",
       "      <td>40.000000</td>\n",
       "    </tr>\n",
       "    <tr>\n",
       "      <th>6</th>\n",
       "      <td>3430.25</td>\n",
       "      <td>30</td>\n",
       "      <td>95.294121</td>\n",
       "      <td>40.392159</td>\n",
       "    </tr>\n",
       "    <tr>\n",
       "      <th>93</th>\n",
       "      <td>3098.25</td>\n",
       "      <td>30</td>\n",
       "      <td>95.686279</td>\n",
       "      <td>36.862747</td>\n",
       "    </tr>\n",
       "    <tr>\n",
       "      <th>94</th>\n",
       "      <td>3257.75</td>\n",
       "      <td>30</td>\n",
       "      <td>91.764709</td>\n",
       "      <td>27.450981</td>\n",
       "    </tr>\n",
       "  </tbody>\n",
       "</table>\n",
       "</div>"
      ],
      "text/plain": [
       "    Engine RPM(rpm)  Intake Air Temperature(°C)  Engine Load(%)  \\\n",
       "1           3169.50                          30       90.980392   \n",
       "5           3158.50                          30       97.254906   \n",
       "6           3430.25                          30       95.294121   \n",
       "93          3098.25                          30       95.686279   \n",
       "94          3257.75                          30       91.764709   \n",
       "\n",
       "    Throttle Position(Manifold)(%)  \n",
       "1                        32.549019  \n",
       "5                        40.000000  \n",
       "6                        40.392159  \n",
       "93                       36.862747  \n",
       "94                       27.450981  "
      ]
     },
     "execution_count": 23,
     "metadata": {},
     "output_type": "execute_result"
    }
   ],
   "source": [
    "# Combine high RPM OR high Load\n",
    "high_risk = pd.concat([high_rpm, high_load]).drop_duplicates()\n",
    "\n",
    "high_risk.head()\n"
   ]
  },
  {
   "cell_type": "code",
   "execution_count": 13,
   "id": "086b299c-9612-4185-b99b-df35f27c5c39",
   "metadata": {},
   "outputs": [],
   "source": [
    "# Save the high-risk instances into a new file\n",
    "high_risk.to_csv('high_risk_vehicles.csv', index=False)\n"
   ]
  },
  {
   "cell_type": "code",
   "execution_count": 14,
   "id": "a50f1056-d1b4-4a43-9a90-f3016fe6cde9",
   "metadata": {},
   "outputs": [
    {
     "name": "stdout",
     "output_type": "stream",
     "text": [
      "----- Risky Instance Counts -----\n",
      "Number of instances with high RPM (>3000): 20\n",
      "Number of instances with high Engine Load (>80%): 365\n",
      "Total unique risky instances (high RPM or high Load): 366\n"
     ]
    }
   ],
   "source": [
    "print(\"----- Risky Instance Counts -----\")\n",
    "print(\"Number of instances with high RPM (>3000):\", len(high_rpm))\n",
    "print(\"Number of instances with high Engine Load (>80%):\", len(high_load))\n",
    "print(\"Total unique risky instances (high RPM or high Load):\", len(high_risk))\n"
   ]
  },
  {
   "cell_type": "code",
   "execution_count": 15,
   "id": "1537342e-de87-46ed-8982-5b5d9c37750e",
   "metadata": {},
   "outputs": [
    {
     "name": "stdout",
     "output_type": "stream",
     "text": [
      "Total number of data points in the dataset: 1356\n"
     ]
    }
   ],
   "source": [
    "print(\"Total number of data points in the dataset:\", len(data))"
   ]
  },
  {
   "cell_type": "code",
   "execution_count": 25,
   "id": "8e13f6f3-2e46-402b-ab36-023f39f8b529",
   "metadata": {},
   "outputs": [
    {
     "data": {
      "image/png": "[encoded data removed]",
      "text/plain": [
       "<Figure size 800x600 with 2 Axes>"
      ]
     },
     "metadata": {},
     "output_type": "display_data"
    }
   ],
   "source": [
    "data = pd.read_csv('cleaned_obd_data.csv')\n",
    "\n",
    "# Drop NaN columns\n",
    "data = data.dropna(axis=1, how='all')\n",
    "\n",
    "# Drop'Unnamed' columns\n",
    "data = data.loc[:, ~data.columns.str.contains('^Unnamed')]\n",
    "\n",
    "# Calculate correlation matrix\n",
    "correlation_matrix = data.corr()\n",
    "\n",
    "# Heatmap\n",
    "plt.figure(figsize=(8,6))\n",
    "sns.heatmap(correlation_matrix, annot=True, cmap='coolwarm', fmt=\".2f\")\n",
    "plt.title('Correlation Matrix of Engine Parameters')\n",
    "plt.show()\n"
   ]
  },
  {
   "cell_type": "code",
   "execution_count": null,
   "id": "3802ca5a-3c50-4a19-9a7c-caf0aa1730b6",
   "metadata": {},
   "outputs": [],
   "source": []
  }
 ],
 "metadata": {
  "kernelspec": {
   "display_name": "Python 3 (ipykernel)",
   "language": "python",
   "name": "python3"
  },
  "language_info": {
   "codemirror_mode": {
    "name": "ipython",
    "version": 3
   },
   "file_extension": ".py",
   "mimetype": "text/x-python",
   "name": "python",
   "nbconvert_exporter": "python",
   "pygments_lexer": "ipython3",
   "version": "3.11.7"
  }
 },
 "nbformat": 4,
 "nbformat_minor": 5
}
